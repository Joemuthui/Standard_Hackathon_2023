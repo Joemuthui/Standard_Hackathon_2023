{
 "cells": [
  {
   "cell_type": "code",
   "execution_count": 330,
   "id": "878c3538-14e1-4689-b483-45260baf1acd",
   "metadata": {},
   "outputs": [],
   "source": [
    "from sklearn.linear_model import LogisticRegression as lr\n",
    "from sklearn.tree import DecisionTreeClassifier as DTC\n",
    "from sklearn.model_selection import train_test_split as tts\n",
    "from sklearn.metrics import confusion_matrix,f1_score\n",
    "from sklearn.preprocessing import StandardScaler\n",
    "import seaborn as sns\n",
    "import matplotlib.pyplot as plt\n",
    "import numpy as np\n",
    "import pandas as pd\n",
    "import os\n",
    "import glob"
   ]
  },
  {
   "cell_type": "code",
   "execution_count": null,
   "id": "69dc2eed-01a1-4a66-8b80-faf32a2c87bb",
   "metadata": {},
   "outputs": [],
   "source": [
    "#load the the files with labels\n",
    "#labels are based on KMeans clustering in the data prepropeccing file\n",
    "#this create a master dataframe with all 56 files concatenated.\n",
    "path = os.getcwd()\n",
    "csv_files = glob.glob(os.path.join(path, \"*.csv\"))  #capture all.csv files in the path\n",
    "master_df=pd.read_csv(csv_files[0])\n",
    "id=int(csv_files[0].split('/')[-1].split('.')[0]) #create the master_Df \n",
    "master_df['id']=id\n",
    "#loop through to concate and add the vehicled id to the dataframe for identification\n",
    "for i in range(1,len(csv_files)):\n",
    "    data=pd.read_csv(csv_files[i])\n",
    "    id=int(csv_files[i].split('/')[-1].split('.')[0])\n",
    "    data['id']=id\n",
    "    new=pd.concat([master_df,data])\n",
    "    master_df=new"
   ]
  },
  {
   "cell_type": "code",
   "execution_count": 33,
   "id": "d64da1c9-fb98-4794-a1ad-722c60f841e7",
   "metadata": {},
   "outputs": [],
   "source": [
    "#master_df.to_csv('train.csv',index=None) #save the master)Df"
   ]
  },
  {
   "cell_type": "code",
   "execution_count": 57,
   "id": "901df70e-6338-4756-9a7b-a45d39970b17",
   "metadata": {},
   "outputs": [],
   "source": [
    "#create the test and train data by withholding one driver information\n",
    "#in this case we held out vehicle id =122196196\n",
    "test=master_df[master_df['id']==122196196]\n",
    "train=master_df[master_df['id']!=122196196]"
   ]
  },
  {
   "cell_type": "code",
   "execution_count": 186,
   "id": "2773c543-fc4e-49fe-9df0-4326ddfe225a",
   "metadata": {},
   "outputs": [
    {
     "data": {
      "text/html": [
       "<style>#sk-container-id-5 {color: black;background-color: white;}#sk-container-id-5 pre{padding: 0;}#sk-container-id-5 div.sk-toggleable {background-color: white;}#sk-container-id-5 label.sk-toggleable__label {cursor: pointer;display: block;width: 100%;margin-bottom: 0;padding: 0.3em;box-sizing: border-box;text-align: center;}#sk-container-id-5 label.sk-toggleable__label-arrow:before {content: \"▸\";float: left;margin-right: 0.25em;color: #696969;}#sk-container-id-5 label.sk-toggleable__label-arrow:hover:before {color: black;}#sk-container-id-5 div.sk-estimator:hover label.sk-toggleable__label-arrow:before {color: black;}#sk-container-id-5 div.sk-toggleable__content {max-height: 0;max-width: 0;overflow: hidden;text-align: left;background-color: #f0f8ff;}#sk-container-id-5 div.sk-toggleable__content pre {margin: 0.2em;color: black;border-radius: 0.25em;background-color: #f0f8ff;}#sk-container-id-5 input.sk-toggleable__control:checked~div.sk-toggleable__content {max-height: 200px;max-width: 100%;overflow: auto;}#sk-container-id-5 input.sk-toggleable__control:checked~label.sk-toggleable__label-arrow:before {content: \"▾\";}#sk-container-id-5 div.sk-estimator input.sk-toggleable__control:checked~label.sk-toggleable__label {background-color: #d4ebff;}#sk-container-id-5 div.sk-label input.sk-toggleable__control:checked~label.sk-toggleable__label {background-color: #d4ebff;}#sk-container-id-5 input.sk-hidden--visually {border: 0;clip: rect(1px 1px 1px 1px);clip: rect(1px, 1px, 1px, 1px);height: 1px;margin: -1px;overflow: hidden;padding: 0;position: absolute;width: 1px;}#sk-container-id-5 div.sk-estimator {font-family: monospace;background-color: #f0f8ff;border: 1px dotted black;border-radius: 0.25em;box-sizing: border-box;margin-bottom: 0.5em;}#sk-container-id-5 div.sk-estimator:hover {background-color: #d4ebff;}#sk-container-id-5 div.sk-parallel-item::after {content: \"\";width: 100%;border-bottom: 1px solid gray;flex-grow: 1;}#sk-container-id-5 div.sk-label:hover label.sk-toggleable__label {background-color: #d4ebff;}#sk-container-id-5 div.sk-serial::before {content: \"\";position: absolute;border-left: 1px solid gray;box-sizing: border-box;top: 0;bottom: 0;left: 50%;z-index: 0;}#sk-container-id-5 div.sk-serial {display: flex;flex-direction: column;align-items: center;background-color: white;padding-right: 0.2em;padding-left: 0.2em;position: relative;}#sk-container-id-5 div.sk-item {position: relative;z-index: 1;}#sk-container-id-5 div.sk-parallel {display: flex;align-items: stretch;justify-content: center;background-color: white;position: relative;}#sk-container-id-5 div.sk-item::before, #sk-container-id-5 div.sk-parallel-item::before {content: \"\";position: absolute;border-left: 1px solid gray;box-sizing: border-box;top: 0;bottom: 0;left: 50%;z-index: -1;}#sk-container-id-5 div.sk-parallel-item {display: flex;flex-direction: column;z-index: 1;position: relative;background-color: white;}#sk-container-id-5 div.sk-parallel-item:first-child::after {align-self: flex-end;width: 50%;}#sk-container-id-5 div.sk-parallel-item:last-child::after {align-self: flex-start;width: 50%;}#sk-container-id-5 div.sk-parallel-item:only-child::after {width: 0;}#sk-container-id-5 div.sk-dashed-wrapped {border: 1px dashed gray;margin: 0 0.4em 0.5em 0.4em;box-sizing: border-box;padding-bottom: 0.4em;background-color: white;}#sk-container-id-5 div.sk-label label {font-family: monospace;font-weight: bold;display: inline-block;line-height: 1.2em;}#sk-container-id-5 div.sk-label-container {text-align: center;}#sk-container-id-5 div.sk-container {/* jupyter's `normalize.less` sets `[hidden] { display: none; }` but bootstrap.min.css set `[hidden] { display: none !important; }` so we also need the `!important` here to be able to override the default hidden behavior on the sphinx rendered scikit-learn.org. See: https://github.com/scikit-learn/scikit-learn/issues/21755 */display: inline-block !important;position: relative;}#sk-container-id-5 div.sk-text-repr-fallback {display: none;}</style><div id=\"sk-container-id-5\" class=\"sk-top-container\"><div class=\"sk-text-repr-fallback\"><pre>DecisionTreeClassifier()</pre><b>In a Jupyter environment, please rerun this cell to show the HTML representation or trust the notebook. <br />On GitHub, the HTML representation is unable to render, please try loading this page with nbviewer.org.</b></div><div class=\"sk-container\" hidden><div class=\"sk-item\"><div class=\"sk-estimator sk-toggleable\"><input class=\"sk-toggleable__control sk-hidden--visually\" id=\"sk-estimator-id-5\" type=\"checkbox\" checked><label for=\"sk-estimator-id-5\" class=\"sk-toggleable__label sk-toggleable__label-arrow\">DecisionTreeClassifier</label><div class=\"sk-toggleable__content\"><pre>DecisionTreeClassifier()</pre></div></div></div></div></div>"
      ],
      "text/plain": [
       "DecisionTreeClassifier()"
      ]
     },
     "execution_count": 186,
     "metadata": {},
     "output_type": "execute_result"
    }
   ],
   "source": [
    "#split the train and test data to have X and y for fitting \n",
    "#the Xtrain and X_test\n",
    "X_train=train.drop(['label','id'],axis=1)\n",
    "X_test=test.drop(['label','id'],axis=1)\n",
    "\n",
    "#the values are too big and we scalled them using the standard scaler\n",
    "scaler=StandardScaler()\n",
    "X_train=scaler.fit_transform(X_train)\n",
    "X_test=scaler.fit_transform(X_test)\n",
    "\n",
    "#the ytrain and y_test\n",
    "y_train=train.label\n",
    "y_test=test.label\n",
    "\n",
    "#initiali the decision tree classifier \n",
    "#and fit the model\n",
    "#one can used different models as it may be needed\n",
    "model=DTC()\n",
    "model.fit(X_train,y_train)"
   ]
  },
  {
   "cell_type": "code",
   "execution_count": 329,
   "id": "887fbb0a-52b1-4b12-bb39-efce182cf01c",
   "metadata": {},
   "outputs": [
    {
     "name": "stdout",
     "output_type": "stream",
     "text": [
      "The accuracy of the DTC model is 83.72093023255815 %\n"
     ]
    }
   ],
   "source": [
    "#test the accuracy of the model with held-out data(vehicle id =122196196)\n",
    "print(f\"The accuracy of the DTC model is {model.score(X_test,y_test)*100} %\")"
   ]
  },
  {
   "cell_type": "code",
   "execution_count": 298,
   "id": "ced70354-8af1-472b-b86f-7503952f98b5",
   "metadata": {},
   "outputs": [
    {
     "data": {
      "image/png": "[encoded data removed]",
      "text/plain": [
       "<Figure size 432x288 with 2 Axes>"
      ]
     },
     "metadata": {
      "needs_background": "light"
     },
     "output_type": "display_data"
    }
   ],
   "source": [
    "#plot the heatmap of the actual vs predictions\n",
    "sns.heatmap(confusion_matrix(model.predict(X_test),np.array(y_test)),annot=True)\n",
    "plt.ylabel('Actual')\n",
    "plt.xlabel('Predicted')\n",
    "plt.show()"
   ]
  },
  {
   "cell_type": "code",
   "execution_count": 331,
   "id": "7f9899ce-3d66-4884-baff-c7207f7f1013",
   "metadata": {},
   "outputs": [
    {
     "name": "stdout",
     "output_type": "stream",
     "text": [
      "The accuracy of the DTC model is 79.47882736156352 %\n"
     ]
    }
   ],
   "source": [
    "#calculate the f1_score, it tells more info than the accuracy\n",
    "f1_scor=f1_score(model.predict(X_test),np.array(y_test))\n",
    "print(f\"The accuracy of the DTC model is {f1_scor*100} %\")"
   ]
  },
  {
   "cell_type": "code",
   "execution_count": null,
   "id": "deac169b-a34a-4490-9530-1b00fce2a4c6",
   "metadata": {},
   "outputs": [],
   "source": [
    "# let's use the model created to predict the full set again, then create a profile with a driver score\n",
    "#this score will be compared with insurance claims to confirm the predictions"
   ]
  },
  {
   "cell_type": "code",
   "execution_count": 383,
   "id": "89385b23-9bea-48cd-b48a-85fa2080a62e",
   "metadata": {},
   "outputs": [],
   "source": [
    "# #load the data in the testing folder and concat to one df\n",
    "#load the data that had no labels\n",
    "\n",
    "#initialize the path and create a master test dataframe that contains\n",
    "#all the files that had been left out\n",
    "d='/home/joemuthui/Documents/Standard_hackathon/telematics_data/testing_data' \n",
    "test_files=glob.glob(os.path.join(d, \"*.csv\"))\n",
    "master_test=pd.read_csv(test_files[0])\n",
    "id=int(test_files[0].split('/')[-1].split('.')[0])\n",
    "master_test['id']=id\n",
    "for i in range(1,len(test_files)):\n",
    "    data=pd.read_csv(test_files[i])\n",
    "    id=int(test_files[i].split('/')[-1].split('.')[0])\n",
    "    data['id']=id\n",
    "    new=pd.concat([master_test,data])\n",
    "    master_test=new"
   ]
  },
  {
   "cell_type": "code",
   "execution_count": 384,
   "id": "474dc93c-c231-4d6c-b04c-d2669973817a",
   "metadata": {},
   "outputs": [],
   "source": [
    "#prepare the data by dropping the id and predicting the labels\n",
    "ids=master_test['id']\n",
    "test_data=master_test.drop('id',axis=1)\n",
    "scaled_test=scaler.fit_transform(test_data)\n",
    "pred=model.predict(scaled_test) #predicted labels"
   ]
  },
  {
   "cell_type": "code",
   "execution_count": 385,
   "id": "645e9312-0a85-49bc-b5f5-8052641a9a25",
   "metadata": {},
   "outputs": [],
   "source": [
    "#create a data frame with the id and predicted label\n",
    "#the label=1 means there is a possibility of a risky moment during that window\n",
    "predicted_df=pd.DataFrame()\n",
    "predicted_df['id']=ids.values\n",
    "predicted_df['label']=pred\n",
    "train_df=master_df[['id','label']]\n",
    "###mean of risky moments per car\n",
    "test_data=predicted_df.groupby('id')['label'].mean()\n",
    "train_dat=train_df.groupby('id')['label'].mean()"
   ]
  },
  {
   "cell_type": "code",
   "execution_count": 386,
   "id": "09557404-66bd-4b14-8002-e4fde0bb1520",
   "metadata": {},
   "outputs": [],
   "source": [
    "#full profile\n",
    "#combine the data i.e test_Data and train_dat\n",
    "full_profile=pd.concat([train_dat,test_data])\n",
    "#convert the risk to percentage and create a full dataset\n",
    "val=full_profile.values*100\n",
    "ind=full_profile.index\n",
    "full_profile=pd.DataFrame()\n",
    "full_profile['vehicleid']=ind #id is the vehicle id\n",
    "full_profile['risk']=val #value is the risk"
   ]
  },
  {
   "cell_type": "code",
   "execution_count": 388,
   "id": "e7321a7b-83d6-4c96-8f70-448b22e65615",
   "metadata": {},
   "outputs": [],
   "source": [
    "#import the claims in order to overlay in our analysis\n",
    "#fill the nan with zero\n",
    "fil=glob.glob(os.path.join(\"/home/joemuthui/Documents/Standard_hackathon/OneDrive_1_2023-08-11/\",\"*.csv\"))\n",
    "claims=pd.read_csv(fil[0])"
   ]
  },
  {
   "cell_type": "code",
   "execution_count": 391,
   "id": "f5dde401-c4ed-4e5e-b421-76223ec8d053",
   "metadata": {},
   "outputs": [],
   "source": [
    "#we noted that some cars in the claim are not in the complete list due to insufficient dta\n",
    "#this is removed\n",
    "fp=set(full_profile.vehicleid.values)\n",
    "cl=set(claims.vehicleid.values)\n",
    "out=list(cl-fp)\n",
    "claims=claims.drop(claims[claims.vehicleid.isin(out)].index)"
   ]
  },
  {
   "cell_type": "code",
   "execution_count": null,
   "id": "479347e8-54eb-4a9e-8ce7-0e3a141bf315",
   "metadata": {},
   "outputs": [],
   "source": [
    "#merge the cliams and risk dataset \n",
    "#into the complete_df\n",
    "complete_df=pd.merge(full_profile,claims,on='vehicleid')\n",
    "complete_df=complete_df.replace(np.nan,0)"
   ]
  },
  {
   "cell_type": "code",
   "execution_count": 392,
   "id": "cd0b0cb6-c445-4033-bf92-65b56e3f66cc",
   "metadata": {},
   "outputs": [],
   "source": [
    "#the total claims cost has large numbers\n",
    "#e devide by the max value of the cost\n",
    "complete_df['total claims cost']=complete_df['total claims cost']/max(complete_df['total claims cost'])"
   ]
  },
  {
   "cell_type": "code",
   "execution_count": 393,
   "id": "7e2a5856-f815-4992-ac29-279984d0947b",
   "metadata": {},
   "outputs": [],
   "source": [
    "#plot the bar of for the cost and risk plot\n",
    "plt.bar(np.arange(15),complete_df['total claims cost'][0:15],label='claims_cost')\n",
    "plt.plot(complete_df['risk'][0:15]/100,c='red',label='risk')\n",
    "plt.legend()\n",
    "plt.xlabel('Id')\n",
    "plt.ylabel('risk/claims')\n",
    "plt.show()"
   ]
  },
  {
   "cell_type": "code",
   "execution_count": 401,
   "id": "e45d7e69-1800-4c06-92fe-48d5ed0a8855",
   "metadata": {},
   "outputs": [
    {
     "data": {
      "image/png": "[encoded data removed]",
      "text/plain": [
       "<Figure size 432x288 with 1 Axes>"
      ]
     },
     "metadata": {
      "needs_background": "light"
     },
     "output_type": "display_data"
    }
   ],
   "source": [
    "#plot the bar of for the number of claims and risk plot\n",
    "plt.bar(np.arange(15),complete_df['number of claims'][0:15],label='Number of claims')\n",
    "plt.plot(complete_df['risk'][0:15]/10,c='red',label='risk')\n",
    "plt.legend()\n",
    "plt.xlabel('Id')\n",
    "plt.ylabel('risk/claims')\n",
    "plt.show()"
   ]
  },
  {
   "cell_type": "code",
   "execution_count": null,
   "id": "be28efe4-e552-4903-b8a5-8b95fadc560b",
   "metadata": {},
   "outputs": [],
   "source": []
  }
 ],
 "metadata": {
  "kernelspec": {
   "display_name": "Python 3 (ipykernel)",
   "language": "python",
   "name": "python3"
  },
  "language_info": {
   "codemirror_mode": {
    "name": "ipython",
    "version": 3
   },
   "file_extension": ".py",
   "mimetype": "text/x-python",
   "name": "python",
   "nbconvert_exporter": "python",
   "pygments_lexer": "ipython3",
   "version": "3.9.2"
  }
 },
 "nbformat": 4,
 "nbformat_minor": 5
}
